{
 "cells": [
  {
   "cell_type": "markdown",
   "metadata": {},
   "source": [
    "# Lesson 1 Practice: NumPy Part 1\n",
    "Use this notebook to follow along with the lesson in the corresponding lesson notebook: [L01-Numpy_Part1-Lesson.ipynb](./L01-Numpy_Part1-Lesson.ipynb).  \n",
    "\n"
   ]
  },
  {
   "cell_type": "markdown",
   "metadata": {},
   "source": [
    "## Instructions\n",
    "Follow along with the teaching material in the lesson. Throughout the tutorial sections labeled as \"Tasks\" are interspersed and indicated with the icon: ![Task](http://icons.iconarchive.com/icons/sbstnblnd/plateau/16/Apps-gnome-info-icon.png). You should follow the instructions provided in these sections by performing them in the practice notebook.  When the tutorial is completed you can turn in the final practice notebook. For each task, use the cell below it to write and test your code.  You may add additional cells for any task as needed or desired.  "
   ]
  },
  {
   "cell_type": "markdown",
   "metadata": {},
   "source": [
    "## Task 1a: Setup\n",
    "\n",
    "In the practice notebook, import the following packages:\n",
    "+ `numpy` as `np`"
   ]
  },
  {
   "cell_type": "code",
   "execution_count": 1,
   "metadata": {},
   "outputs": [],
   "source": [
    "import numpy as np"
   ]
  },
  {
   "cell_type": "markdown",
   "metadata": {},
   "source": [
    "## Task 2a: Creating Arrays\n",
    "\n",
    "In the practice notebook, perform the following.  \n",
    "- Create a 1-dimensional numpy array and print it.\n",
    "- Create a 2-dimensional numpy array and print it.\n",
    "- Create a 3-dimensional numpy array and print it."
   ]
  },
  {
   "cell_type": "code",
   "execution_count": 4,
   "metadata": {},
   "outputs": [
    {
     "name": "stdout",
     "output_type": "stream",
     "text": "[1 2 3]\n[[0 0 0]\n [1 1 1]]\n[[[0 0]\n  [1 1]]\n\n [[2 2]\n  [3 3]]]\n[[[ 1  2  3  4]\n  [ 5  6  7  8]]\n\n [[ 1  2  3  4]\n  [ 9 10 11 12]]]\n"
    }
   ],
   "source": [
    "arr = np.array([1,2,3])\n",
    "arr2 = np.array([[0,0,0], [1,1,1]])\n",
    "arr3 = np.array([[[0,0],[1,1]],[[2,2],[3,3]]])\n",
    "\n",
    "#my_3d_array = np.array([[[1,2,3,4], [5,6,7,8]], [[1,2,3,4], [9,10,11,12]]])\n",
    "\n",
    "print(arr)\n",
    "print(arr2)\n",
    "print(arr3)\n",
    "\n",
    "#print(my_3d_array)"
   ]
  },
  {
   "cell_type": "markdown",
   "metadata": {},
   "source": [
    "## Task 3a: Accessing Array Attributes\n",
    "\n",
    "In the practice notebook, perform the following.\n",
    "\n",
    "- Create a NumPy array.\n",
    "- Write code that prints these attributes (one per line): `ndim`, `shape`, `size`, `dtype`, `itemsize`, `data`, `nbytes`.\n",
    "- Add a comment line, before each line describing what value the attribute returns. \n"
   ]
  },
  {
   "cell_type": "code",
   "execution_count": 6,
   "metadata": {},
   "outputs": [
    {
     "name": "stdout",
     "output_type": "stream",
     "text": "1\n(4,)\n4\nint32\n4\n<memory at 0x000001C449FA4888>\n16\n"
    }
   ],
   "source": [
    "a = np.array([1,2,3,4])\n",
    "\n",
    "print(a.ndim)\n",
    "print(a.shape)\n",
    "print(a.size)\n",
    "print(a.dtype)\n",
    "print(a.itemsize)\n",
    "print(a.data)\n",
    "print(a.nbytes)"
   ]
  },
  {
   "cell_type": "markdown",
   "metadata": {},
   "source": [
    "## Task 4a: Initializing Arrays\n",
    "\n",
    "In the practice notebook, perform the following.\n",
    "\n",
    "+ Create an initialized array by using these functions:  `ones`, `zeros`, `empty`, `full`, `arange`, `linspace` and `random.random`. Be sure to follow each array creation with a call to `print()` to display your newly created arrays. \n",
    "+ Add a comment above each function call describing what is being done.  "
   ]
  },
  {
   "cell_type": "code",
   "execution_count": 16,
   "metadata": {},
   "outputs": [
    {
     "name": "stdout",
     "output_type": "stream",
     "text": "[1. 1.]\n[0. 0. 0. 0.]\n[0. 0. 0. 0.]\n[2 2 2 2]\n[3 4 5 6]\n[ 1.          1.59183673  2.18367347  2.7755102   3.36734694  3.95918367\n  4.55102041  5.14285714  5.73469388  6.32653061  6.91836735  7.51020408\n  8.10204082  8.69387755  9.28571429  9.87755102 10.46938776 11.06122449\n 11.65306122 12.24489796 12.83673469 13.42857143 14.02040816 14.6122449\n 15.20408163 15.79591837 16.3877551  16.97959184 17.57142857 18.16326531\n 18.75510204 19.34693878 19.93877551 20.53061224 21.12244898 21.71428571\n 22.30612245 22.89795918 23.48979592 24.08163265 24.67346939 25.26530612\n 25.85714286 26.44897959 27.04081633 27.63265306 28.2244898  28.81632653\n 29.40816327 30.        ]\n"
    }
   ],
   "source": [
    "a_ones = np.ones((2, ))\n",
    "print(a_ones)\n",
    "\n",
    "a_zeros = np.zeros((4,))\n",
    "print(a_zeros)\n",
    "\n",
    "print(np.empty((4,)))\n",
    "print(np.full((4,), fill_value = 2))\n",
    "print(np.arange(3,7))\n",
    "print(np.linspace(1,30))"
   ]
  },
  {
   "cell_type": "markdown",
   "metadata": {},
   "source": [
    "## Task 5a:  Broadcasting Arrays\n",
    "\n",
    "In the practice notebook, perform the following.\n",
    "\n",
    "+ Create two arrays of differing sizes but compatible with broadcasting.\n",
    "+ Perform addition, multiplication and subtraction.\n",
    "+ Create two additional arrays of differing size that do not meet the rules for broadcasting and try a mathematical operation.  "
   ]
  },
  {
   "cell_type": "code",
   "execution_count": 20,
   "metadata": {},
   "outputs": [
    {
     "name": "stdout",
     "output_type": "stream",
     "text": "[6 5]\n[9 4]\n[0 3]\n"
    }
   ],
   "source": [
    "a = np.array((3,4))\n",
    "b = np.array((3,1))\n",
    "\n",
    "aplusb = a + b\n",
    "print(aplusb)\n",
    "\n",
    "amultb = a * b\n",
    "print(amultb)\n",
    "\n",
    "asubb = a - b\n",
    "print(asubb)\n"
   ]
  },
  {
   "cell_type": "markdown",
   "metadata": {},
   "source": [
    "## Task 6a: Math/Stats Aggregate Functions\n",
    "\n",
    "In the practice notebook, perform the following.\n",
    "\n",
    "+ Create three to five arrays\n",
    "+ Experiment with each of the aggregation functions: `sum`, `minimum`, `maximum`, `cumsum`, `mean`, `np.corrcoef`, `np.std`, `np.var`. \n",
    "+ For each function call, add a comment line above it that describes what it does.  \n",
    "```\n"
   ]
  },
  {
   "cell_type": "code",
   "execution_count": 34,
   "metadata": {},
   "outputs": [
    {
     "name": "stdout",
     "output_type": "stream",
     "text": "17\n[1 2 3 1 1]\n[5 5 5 4 5]\n3.0\n1.0\n1.4142135623730951\n2.0\n"
    }
   ],
   "source": [
    "a = np.zeros((5,))\n",
    "b = np.array((5,5,5,1,1))\n",
    "c = np.array((1,2,3,4,5))\n",
    "d = np.ones((3,4))\n",
    "\n",
    "print(np.sum(b))\n",
    "print(np.minimum(b,c))\n",
    "print(np.maximum(c,b))\n",
    "print(np.mean(c))\n",
    "print(np.corrcoef(c))\n",
    "print(np.std(c))\n",
    "print(np.var(c))"
   ]
  },
  {
   "cell_type": "markdown",
   "metadata": {},
   "source": [
    "## Task 6b: Logical Aggregate Functions\n",
    "\n",
    "In the practice notebook, perform the following.\n",
    "\n",
    "+ Create two arrays containing boolean values.\n",
    "+ Experiment with each of the aggregation functions: `logical_and`, `logical_or`, `logical_not`. \n",
    "+ For each function call, add a comment line above it that describes what it does.  \n",
    "```"
   ]
  },
  {
   "cell_type": "code",
   "execution_count": 36,
   "metadata": {},
   "outputs": [
    {
     "name": "stdout",
     "output_type": "stream",
     "text": "[False  True False False]\n[ True  True False  True]\n[False False  True False]\n"
    }
   ],
   "source": [
    "a = np.array((True, True, False, True))\n",
    "b = np.array((False, True, False, False))\n",
    "\n",
    "print(np.logical_and(a,b))\n",
    "print(np.logical_or(a,b))\n",
    "print(np.logical_not(a,b))"
   ]
  },
  {
   "cell_type": "code",
   "execution_count": null,
   "metadata": {},
   "outputs": [],
   "source": []
  }
 ],
 "metadata": {
  "kernelspec": {
   "display_name": "Python 3",
   "language": "python",
   "name": "python3"
  },
  "language_info": {
   "codemirror_mode": {
    "name": "ipython",
    "version": 3
   },
   "file_extension": ".py",
   "mimetype": "text/x-python",
   "name": "python",
   "nbconvert_exporter": "python",
   "pygments_lexer": "ipython3",
   "version": "3.7.6-final"
  }
 },
 "nbformat": 4,
 "nbformat_minor": 4
}